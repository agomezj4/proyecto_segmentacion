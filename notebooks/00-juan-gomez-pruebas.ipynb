{
 "cells": [
  {
   "cell_type": "markdown",
   "id": "ba8c11c1-911f-4fb7-88c2-a7bec78f8e65",
   "metadata": {},
   "source": [
    "# PRUEBAS \n",
    "Responsable: Juan Alejandro Gómez Jaramillo\n",
    "\n",
    "Repositorio: https://github.com/agomezj4/proyecto_segmentacion"
   ]
  },
  {
   "cell_type": "code",
   "execution_count": 2,
   "id": "f4b4b564-35d4-47af-aba8-a49c49becfcc",
   "metadata": {
    "ExecuteTime": {
     "end_time": "2024-07-15T19:04:18.278223Z",
     "start_time": "2024-07-15T19:04:17.385879Z"
    }
   },
   "outputs": [],
   "source": [
    "# import pandas as pd\n",
    "# import numpy as np\n",
    "# import sys\n",
    "# import os\n",
    "# import yaml"
   ]
  },
  {
   "cell_type": "code",
   "execution_count": 3,
   "id": "3586fdc4-933b-4190-88a0-32b449023050",
   "metadata": {
    "ExecuteTime": {
     "end_time": "2024-07-15T18:42:46.407974Z",
     "start_time": "2024-07-15T18:42:46.403273Z"
    }
   },
   "outputs": [],
   "source": [
    "# os.chdir('/Users/agomezj/Desktop/Data Science/Proyectos/proyecto_segmentacion/src')\n",
    "# print(os.getcwd())"
   ]
  },
  {
   "cell_type": "code",
   "execution_count": 4,
   "id": "d1ba9ff2-7ed2-49f3-9c8a-e85199628a99",
   "metadata": {
    "ExecuteTime": {
     "end_time": "2024-07-15T18:42:48.639898Z",
     "start_time": "2024-07-15T18:42:48.635495Z"
    },
    "scrolled": true
   },
   "outputs": [],
   "source": [
    "# from proyecto_segmentacion.utils import Utils\n",
    "# from proyecto_segmentacion.pipelines.raw import PipelineRaw\n",
    "# from proyecto_segmentacion.pipelines.intermediate import PipelineIntermediate\n",
    "# from proyecto_segmentacion.pipelines.primary import PipelinePrimary\n",
    "# from proyecto_segmentacion.pipelines.feature import PipelineFeature\n",
    "# from proyecto_segmentacion.pipelines.models import PipelineModels\n",
    "# from proyecto_segmentacion.pipelines.model_selection import PipelineModelSelection"
   ]
  },
  {
   "cell_type": "code",
   "execution_count": 5,
   "id": "b7d2be07-1a55-42b2-9f52-d4914853cc93",
   "metadata": {
    "ExecuteTime": {
     "end_time": "2024-07-15T18:42:52.059146Z",
     "start_time": "2024-07-15T18:42:52.052152Z"
    }
   },
   "outputs": [],
   "source": [
    "# tag_dict = pd.read_excel('../data/01_raw/tag_dict_segmentacion.xlsx')"
   ]
  },
  {
   "cell_type": "code",
   "execution_count": 6,
   "id": "44c0623d-c0c3-48e9-99cd-e1120d803475",
   "metadata": {
    "ExecuteTime": {
     "end_time": "2024-07-15T18:42:53.594518Z",
     "start_time": "2024-07-15T18:42:53.585936Z"
    }
   },
   "outputs": [],
   "source": [
    "# df = pd.read_csv('../data/01_raw/data_customers.csv')"
   ]
  },
  {
   "cell_type": "code",
   "execution_count": 7,
   "id": "da109a1d-142a-48bb-a356-53810239c302",
   "metadata": {
    "ExecuteTime": {
     "end_time": "2024-07-15T18:42:55.446701Z",
     "start_time": "2024-07-15T18:42:55.442519Z"
    }
   },
   "outputs": [],
   "source": [
    "# Utils.add_src_to_path()\n",
    "# project_root = Utils.get_project_root()"
   ]
  },
  {
   "cell_type": "code",
   "execution_count": 8,
   "id": "fc7a6894-093b-4fc2-854f-714fc4a08de2",
   "metadata": {
    "ExecuteTime": {
     "end_time": "2024-07-15T18:42:58.520027Z",
     "start_time": "2024-07-15T18:42:58.516275Z"
    }
   },
   "outputs": [],
   "source": [
    "# parameters_directory = os.path.join(project_root, 'src', 'parameters')\n",
    "# parameters = Utils.load_parameters(parameters_directory)"
   ]
  },
  {
   "cell_type": "markdown",
   "id": "24caa337-d2ad-476f-8a9c-b26834944033",
   "metadata": {},
   "source": [
    "### Pipelie Raw"
   ]
  },
  {
   "cell_type": "code",
   "execution_count": 10,
   "id": "73804b02-a2d5-4bed-a0be-f03b2247bbd4",
   "metadata": {
    "ExecuteTime": {
     "end_time": "2024-07-15T18:43:02.527403Z",
     "start_time": "2024-07-15T18:43:02.523823Z"
    }
   },
   "outputs": [],
   "source": [
    "# prueba1 = PipelineRaw.validate_tags_pd(df, tag_dict)"
   ]
  },
  {
   "cell_type": "code",
   "execution_count": 11,
   "id": "fe98d296-14c2-444f-bbeb-13e8b4ff06b6",
   "metadata": {
    "ExecuteTime": {
     "end_time": "2024-07-15T18:43:03.683665Z",
     "start_time": "2024-07-15T18:43:03.679836Z"
    }
   },
   "outputs": [],
   "source": [
    "# prueba2 = PipelineRaw.validate_dtypes_pd(prueba1, tag_dict)"
   ]
  },
  {
   "cell_type": "markdown",
   "id": "243bfa80-c83d-41ec-bb2e-fa61492c4688",
   "metadata": {},
   "source": [
    "### Pipelie Intermediate"
   ]
  },
  {
   "cell_type": "code",
   "execution_count": 13,
   "id": "88becb0d-f2e9-4787-be8b-d7b71284d6f8",
   "metadata": {
    "ExecuteTime": {
     "end_time": "2024-07-15T18:43:06.420696Z",
     "start_time": "2024-07-15T18:43:06.415211Z"
    }
   },
   "outputs": [],
   "source": [
    "# prueba3 = PipelineIntermediate.change_names_pd(prueba2, tag_dict)"
   ]
  },
  {
   "cell_type": "code",
   "execution_count": 14,
   "id": "b9f93c20-1601-4a56-acfd-f2fcea3a1fcc",
   "metadata": {
    "ExecuteTime": {
     "end_time": "2024-07-15T18:43:07.453427Z",
     "start_time": "2024-07-15T18:43:07.445693Z"
    }
   },
   "outputs": [],
   "source": [
    "# prueba4 = PipelineIntermediate.change_dtype_pd(prueba3, tag_dict)"
   ]
  },
  {
   "cell_type": "code",
   "execution_count": 15,
   "id": "7b5271c4-df50-4b87-b018-7cbd702ae4e3",
   "metadata": {
    "ExecuteTime": {
     "end_time": "2024-07-15T18:43:09.914221Z",
     "start_time": "2024-07-15T18:43:09.910492Z"
    }
   },
   "outputs": [],
   "source": [
    "# prueba5 = PipelineIntermediate.delete_accents_pd(prueba4)"
   ]
  },
  {
   "cell_type": "markdown",
   "id": "3623f058-de7a-451f-8c8a-5fd138d2e73b",
   "metadata": {},
   "source": [
    "### Pipelie Primary"
   ]
  },
  {
   "cell_type": "code",
   "execution_count": 17,
   "id": "52b191b7-8ab1-491e-8c18-b9eb439fa453",
   "metadata": {
    "ExecuteTime": {
     "end_time": "2024-07-15T18:43:13.113391Z",
     "start_time": "2024-07-15T18:43:13.107569Z"
    }
   },
   "outputs": [],
   "source": [
    "# prueba6 = PipelinePrimary.recategorize_pd(\n",
    "#     prueba5, \n",
    "#     parameters['parameters_primary'])"
   ]
  },
  {
   "cell_type": "code",
   "execution_count": 18,
   "id": "6d3c507b-5c40-4464-aaaf-9e072b8ccc97",
   "metadata": {
    "ExecuteTime": {
     "end_time": "2024-07-15T18:43:15.213714Z",
     "start_time": "2024-07-15T18:43:15.208660Z"
    }
   },
   "outputs": [],
   "source": [
    "# prueba7 = PipelinePrimary.impute_missing_values_pd(\n",
    "#     prueba6, \n",
    "#     parameters['parameters_primary'])"
   ]
  },
  {
   "cell_type": "code",
   "execution_count": 19,
   "id": "c6a4de5e-8a77-4ca8-a255-26c96dc82233",
   "metadata": {
    "ExecuteTime": {
     "end_time": "2024-07-15T18:43:18.207544Z",
     "start_time": "2024-07-15T18:43:18.202206Z"
    }
   },
   "outputs": [],
   "source": [
    "# prueba8 = PipelinePrimary.remove_duplicates_pd(\n",
    "#     prueba7, \n",
    "#     parameters['parameters_primary'])"
   ]
  },
  {
   "cell_type": "code",
   "execution_count": 20,
   "id": "f3110741-345f-4bd1-a1c6-04a910af8f26",
   "metadata": {
    "ExecuteTime": {
     "end_time": "2024-07-15T18:43:20.052006Z",
     "start_time": "2024-07-15T18:43:20.023083Z"
    }
   },
   "outputs": [],
   "source": [
    "# prueba9 = PipelinePrimary.remove_outliers_pd(prueba8)"
   ]
  },
  {
   "cell_type": "markdown",
   "id": "acf99ac5-aca9-423e-8161-9ec3c2e6f5bd",
   "metadata": {},
   "source": [
    "### Pipelie Feature"
   ]
  },
  {
   "cell_type": "code",
   "execution_count": 22,
   "id": "8710ac98-320d-4a3f-b7c8-cfacb8af2943",
   "metadata": {
    "ExecuteTime": {
     "end_time": "2024-07-15T18:43:23.347775Z",
     "start_time": "2024-07-15T18:43:23.343957Z"
    }
   },
   "outputs": [],
   "source": [
    "# prueba10 = PipelineFeature.features_new_pd(\n",
    "#     prueba9, \n",
    "#     parameters['parameters_feature'])"
   ]
  },
  {
   "cell_type": "code",
   "execution_count": 23,
   "id": "673f5e10-b0ab-4aac-a762-61542d8e77ab",
   "metadata": {
    "ExecuteTime": {
     "end_time": "2024-07-15T18:43:25.117343Z",
     "start_time": "2024-07-15T18:43:25.114011Z"
    }
   },
   "outputs": [],
   "source": [
    "# prueba11 = PipelineFeature.min_max_scaler_pd(prueba10)"
   ]
  },
  {
   "cell_type": "code",
   "execution_count": 24,
   "id": "fa9cf867-5299-4c5f-af6d-5953e7a8071d",
   "metadata": {
    "ExecuteTime": {
     "end_time": "2024-07-15T18:43:27.880222Z",
     "start_time": "2024-07-15T18:43:27.874460Z"
    }
   },
   "outputs": [],
   "source": [
    "# prueba12 = PipelineFeature.one_hot_encoding_pd(\n",
    "#     prueba11, \n",
    "#     parameters['parameters_feature'])"
   ]
  },
  {
   "cell_type": "markdown",
   "id": "84728628-7b45-4c80-9493-e061885ceee7",
   "metadata": {},
   "source": [
    "### Pipeline Models"
   ]
  },
  {
   "cell_type": "code",
   "execution_count": 26,
   "id": "47a0f0fd-4832-4f3f-acaa-b3ae7f80c745",
   "metadata": {
    "ExecuteTime": {
     "end_time": "2024-07-15T18:43:31.502241Z",
     "start_time": "2024-07-15T18:43:31.498449Z"
    }
   },
   "outputs": [],
   "source": [
    "# prueba13 = PipelineModels.train_kmeans_pd(\n",
    "#     prueba12, \n",
    "#     parameters['parameters_models'])"
   ]
  },
  {
   "cell_type": "code",
   "execution_count": 27,
   "id": "f043ce5d-cc30-42fc-ac7b-9ff20acd4946",
   "metadata": {
    "ExecuteTime": {
     "end_time": "2024-07-15T18:43:34.425428Z",
     "start_time": "2024-07-15T18:43:34.421835Z"
    }
   },
   "outputs": [],
   "source": [
    "# prueba14 = PipelineModels.train_gmm_pd(\n",
    "#     prueba12, \n",
    "#     parameters['parameters_models'])"
   ]
  },
  {
   "cell_type": "code",
   "execution_count": 28,
   "id": "435eb74d-6ceb-4cce-b0b1-5e37a1ec1622",
   "metadata": {
    "ExecuteTime": {
     "end_time": "2024-07-15T18:43:37.580126Z",
     "start_time": "2024-07-15T18:43:37.560391Z"
    }
   },
   "outputs": [],
   "source": [
    "# prueba15 = PipelineModels.train_dbscan_pd(\n",
    "#     prueba12, \n",
    "#     parameters['parameters_models'])"
   ]
  },
  {
   "cell_type": "markdown",
   "id": "1696cee7-fc55-4a0a-9086-c45dc61027db",
   "metadata": {},
   "source": [
    "### Pipeline Model Selection"
   ]
  },
  {
   "cell_type": "code",
   "execution_count": 30,
   "id": "59fc2bd2-a06b-40e1-be7d-947756e517b4",
   "metadata": {
    "ExecuteTime": {
     "end_time": "2024-07-15T18:43:40.963456Z",
     "start_time": "2024-07-15T18:43:40.954353Z"
    }
   },
   "outputs": [],
   "source": [
    "# data_models_directory = os.path.join(project_root, 'data', '05_models')\n",
    "# models_data_path = os.path.join(data_models_directory,\n",
    "#                                 parameters['parameters_catalog']['models_data_path'])"
   ]
  },
  {
   "cell_type": "code",
   "execution_count": 31,
   "id": "5316cfa1-0e36-477f-9131-a1593c5b2175",
   "metadata": {
    "ExecuteTime": {
     "end_time": "2024-07-15T18:43:42.978167Z",
     "start_time": "2024-07-15T18:43:42.971039Z"
    }
   },
   "outputs": [],
   "source": [
    "# data_models = Utils.load_pickle(models_data_path)"
   ]
  },
  {
   "cell_type": "code",
   "execution_count": 32,
   "id": "040b6cc3-18c6-4c49-8c2e-f1906bd1d341",
   "metadata": {
    "ExecuteTime": {
     "end_time": "2024-07-15T18:43:45.405677Z",
     "start_time": "2024-07-15T18:43:45.394180Z"
    }
   },
   "outputs": [],
   "source": [
    "# prueba16 = PipelineModelSelection.select_best_model_pd(data_models,\n",
    "#                                                    parameters['parameters_model_selection'])"
   ]
  },
  {
   "cell_type": "code",
   "execution_count": 33,
   "id": "cb275589-fdc2-4041-aaa6-3907f6eef9b2",
   "metadata": {
    "ExecuteTime": {
     "end_time": "2024-07-15T18:43:51.352716Z",
     "start_time": "2024-07-15T18:43:51.347543Z"
    },
    "tags": []
   },
   "outputs": [],
   "source": [
    "# prueba17 = PipelineModelSelection.optimize_train_best_gmm_pd(prueba12,\n",
    "#                                                    parameters['parameters_model_selection'])"
   ]
  }
 ],
 "metadata": {
  "kernelspec": {
   "display_name": "py3.10 proyecto_segmentacion",
   "language": "python",
   "name": "proyecto_segmentacion"
  },
  "language_info": {
   "codemirror_mode": {
    "name": "ipython",
    "version": 3
   },
   "file_extension": ".py",
   "mimetype": "text/x-python",
   "name": "python",
   "nbconvert_exporter": "python",
   "pygments_lexer": "ipython3",
   "version": "3.10.0"
  }
 },
 "nbformat": 4,
 "nbformat_minor": 5
}
